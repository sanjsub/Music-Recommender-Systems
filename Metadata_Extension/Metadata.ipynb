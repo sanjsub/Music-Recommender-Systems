{
 "cells": [
  {
   "cell_type": "code",
   "execution_count": 7,
   "metadata": {},
   "outputs": [
    {
     "name": "stdout",
     "output_type": "stream",
     "text": [
      "('table', 'songs', 'songs', 2, 'CREATE TABLE songs (track_id text PRIMARY KEY, title text, song_id text, release text, artist_id text, artist_mbid text, artist_name text, duration real, artist_familiarity real, artist_hotttnesss real, year int)')\n"
     ]
    },
    {
     "data": {
      "text/plain": [
       "[('table',\n",
       "  'songs',\n",
       "  'songs',\n",
       "  2,\n",
       "  'CREATE TABLE songs (track_id text PRIMARY KEY, title text, song_id text, release text, artist_id text, artist_mbid text, artist_name text, duration real, artist_familiarity real, artist_hotttnesss real, year int)')]"
      ]
     },
     "execution_count": 7,
     "metadata": {},
     "output_type": "execute_result"
    }
   ],
   "source": [
    "import sqlite3\n",
    "\n",
    "# Create a SQL connection to our SQLite database\n",
    "con = sqlite3.connect(\"../Databases/track_metadata.db\")\n",
    "\n",
    "cur = con.cursor()\n",
    "\n",
    "# The result of a \"cursor.execute\" can be iterated over by row\n",
    "for row in cur.execute('SELECT * FROM sqlite_master WHERE type=\"table\";'):\n",
    "    print(row)\n",
    "\n",
    "cur.execute('SELECT * FROM sqlite_master WHERE type=\"table\";').fetchall()"
   ]
  },
  {
   "cell_type": "code",
   "execution_count": 8,
   "metadata": {},
   "outputs": [
    {
     "data": {
      "text/plain": [
       "[('TRMMMYQ128F932D901',\n",
       "  'Silent Night',\n",
       "  'SOQMMHC12AB0180CB8',\n",
       "  'Monster Ballads X-Mas',\n",
       "  'ARYZTJS1187B98C555',\n",
       "  '357ff05d-848a-44cf-b608-cb34b5701ae5',\n",
       "  'Faster Pussy cat',\n",
       "  252.05506,\n",
       "  0.649822100201,\n",
       "  0.394031892714,\n",
       "  2003),\n",
       " ('TRMMMKD128F425225D',\n",
       "  'Tanssi vaan',\n",
       "  'SOVFVAK12A8C1350D9',\n",
       "  'Karkuteillä',\n",
       "  'ARMVN3U1187FB3A1EB',\n",
       "  '8d7ef530-a6fd-4f8f-b2e2-74aec765e0f9',\n",
       "  'Karkkiautomaatti',\n",
       "  156.55138,\n",
       "  0.439603966677,\n",
       "  0.356992107756,\n",
       "  1995),\n",
       " ('TRMMMRX128F93187D9',\n",
       "  'No One Could Ever',\n",
       "  'SOGTUKN12AB017F4F1',\n",
       "  'Butter',\n",
       "  'ARGEKB01187FB50750',\n",
       "  '3d403d44-36ce-465c-ad43-ae877e65adc4',\n",
       "  'Hudson Mohawke',\n",
       "  138.97098,\n",
       "  0.643680572058,\n",
       "  0.437503836595,\n",
       "  2006),\n",
       " ('TRMMMCH128F425532C',\n",
       "  'Si Vos Querés',\n",
       "  'SOBNYVR12A8C13558C',\n",
       "  'De Culo',\n",
       "  'ARNWYLR1187B9B2F9C',\n",
       "  '12be7648-7094-495f-90e6-df4189d68615',\n",
       "  'Yerba Brava',\n",
       "  145.05751,\n",
       "  0.448501159656,\n",
       "  0.372349068517,\n",
       "  2003),\n",
       " ('TRMMMWA128F426B589',\n",
       "  'Tangle Of Aspens',\n",
       "  'SOHSBXH12A8C13B0DF',\n",
       "  'Rene Ablaze Presents Winter Sessions',\n",
       "  'AREQDTE1269FB37231',\n",
       "  '',\n",
       "  'Der Mystic',\n",
       "  514.29832,\n",
       "  0.0,\n",
       "  0.0,\n",
       "  0)]"
      ]
     },
     "execution_count": 8,
     "metadata": {},
     "output_type": "execute_result"
    }
   ],
   "source": [
    "cur.execute('SELECT * FROM songs LIMIT 5;').fetchall()"
   ]
  },
  {
   "cell_type": "code",
   "execution_count": null,
   "metadata": {},
   "outputs": [],
   "source": [
    "cursor.execute(\"SELECT name FROM sqlite_master WHERE type='table';\")"
   ]
  }
 ],
 "metadata": {
  "kernelspec": {
   "display_name": "Python 3",
   "language": "python",
   "name": "python3"
  },
  "language_info": {
   "codemirror_mode": {
    "name": "ipython",
    "version": 3
   },
   "file_extension": ".py",
   "mimetype": "text/x-python",
   "name": "python",
   "nbconvert_exporter": "python",
   "pygments_lexer": "ipython3",
   "version": "3.6.5"
  }
 },
 "nbformat": 4,
 "nbformat_minor": 2
}
