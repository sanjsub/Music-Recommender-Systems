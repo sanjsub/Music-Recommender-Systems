{
 "cells": [
  {
   "cell_type": "code",
   "execution_count": 1,
   "metadata": {},
   "outputs": [],
   "source": [
    "import logging\n",
    "import pickle\n",
    "\n",
    "from lenskit import util\n",
    "from lenskit.algorithms import als\n",
    "from lenskit import batch\n",
    "from lenskit import topn\n",
    "\n",
    "import pandas as pd\n",
    "import numpy as np\n",
    "from scipy import stats\n",
    "import binpickle\n",
    "\n",
    "from pytest import mark, approx\n",
    "\n",
    "import lenskit.util.test as lktu\n",
    "from lenskit.algorithms import Recommender\n",
    "from lenskit.util import Stopwatch\n",
    "\n",
    "from lenskit.batch import MultiEval\n",
    "from lenskit.crossfold import partition_users, SampleN, SampleFrac\n",
    "from lenskit.algorithms import basic, als\n",
    "from lenskit.datasets import MovieLens\n",
    "from lenskit import topn, util\n",
    "import pandas as pd\n",
    "import matplotlib.pyplot as plt\n",
    "\n",
    "from tqdm.notebook import tqdm_notebook as tqdm\n",
    "tqdm.pandas()"
   ]
  },
  {
   "cell_type": "code",
   "execution_count": 2,
   "metadata": {},
   "outputs": [],
   "source": [
    "training_data = pd.read_parquet(r\"/home/ac8826/final-project-team_pseudo_recommenders/Databases/Databases/cf_train.parquet/part-00003-f5f99d61-97a3-408a-9dcd-5d6fc378fff2-c000.snappy.parquet\")"
   ]
  },
  {
   "cell_type": "code",
   "execution_count": 3,
   "metadata": {},
   "outputs": [
    {
     "data": {
      "text/html": [
       "<div>\n",
       "<style scoped>\n",
       "    .dataframe tbody tr th:only-of-type {\n",
       "        vertical-align: middle;\n",
       "    }\n",
       "\n",
       "    .dataframe tbody tr th {\n",
       "        vertical-align: top;\n",
       "    }\n",
       "\n",
       "    .dataframe thead th {\n",
       "        text-align: right;\n",
       "    }\n",
       "</style>\n",
       "<table border=\"1\" class=\"dataframe\">\n",
       "  <thead>\n",
       "    <tr style=\"text-align: right;\">\n",
       "      <th></th>\n",
       "      <th>user_id</th>\n",
       "      <th>count</th>\n",
       "      <th>track_id</th>\n",
       "      <th>__index_level_0__</th>\n",
       "      <th>user_id_index</th>\n",
       "      <th>track_id_index</th>\n",
       "    </tr>\n",
       "  </thead>\n",
       "  <tbody>\n",
       "    <tr>\n",
       "      <th>0</th>\n",
       "      <td>b80344d063b5ccb3212f76538f3d9e43d87dca9e</td>\n",
       "      <td>1</td>\n",
       "      <td>TRIQAUQ128F42435AD</td>\n",
       "      <td>0</td>\n",
       "      <td>103159</td>\n",
       "      <td>2994</td>\n",
       "    </tr>\n",
       "    <tr>\n",
       "      <th>1</th>\n",
       "      <td>b80344d063b5ccb3212f76538f3d9e43d87dca9e</td>\n",
       "      <td>1</td>\n",
       "      <td>TRIRLYL128F42539D1</td>\n",
       "      <td>1</td>\n",
       "      <td>103159</td>\n",
       "      <td>12575</td>\n",
       "    </tr>\n",
       "    <tr>\n",
       "      <th>2</th>\n",
       "      <td>b80344d063b5ccb3212f76538f3d9e43d87dca9e</td>\n",
       "      <td>2</td>\n",
       "      <td>TRMHBXZ128F4238406</td>\n",
       "      <td>2</td>\n",
       "      <td>103159</td>\n",
       "      <td>3524</td>\n",
       "    </tr>\n",
       "    <tr>\n",
       "      <th>3</th>\n",
       "      <td>b80344d063b5ccb3212f76538f3d9e43d87dca9e</td>\n",
       "      <td>1</td>\n",
       "      <td>TRYQMNI128F147C1C7</td>\n",
       "      <td>3</td>\n",
       "      <td>103159</td>\n",
       "      <td>32121</td>\n",
       "    </tr>\n",
       "    <tr>\n",
       "      <th>4</th>\n",
       "      <td>b80344d063b5ccb3212f76538f3d9e43d87dca9e</td>\n",
       "      <td>1</td>\n",
       "      <td>TRAHZNE128F9341B86</td>\n",
       "      <td>4</td>\n",
       "      <td>103159</td>\n",
       "      <td>20989</td>\n",
       "    </tr>\n",
       "  </tbody>\n",
       "</table>\n",
       "</div>"
      ],
      "text/plain": [
       "                                    user_id  count            track_id  \\\n",
       "0  b80344d063b5ccb3212f76538f3d9e43d87dca9e      1  TRIQAUQ128F42435AD   \n",
       "1  b80344d063b5ccb3212f76538f3d9e43d87dca9e      1  TRIRLYL128F42539D1   \n",
       "2  b80344d063b5ccb3212f76538f3d9e43d87dca9e      2  TRMHBXZ128F4238406   \n",
       "3  b80344d063b5ccb3212f76538f3d9e43d87dca9e      1  TRYQMNI128F147C1C7   \n",
       "4  b80344d063b5ccb3212f76538f3d9e43d87dca9e      1  TRAHZNE128F9341B86   \n",
       "\n",
       "   __index_level_0__  user_id_index  track_id_index  \n",
       "0                  0         103159            2994  \n",
       "1                  1         103159           12575  \n",
       "2                  2         103159            3524  \n",
       "3                  3         103159           32121  \n",
       "4                  4         103159           20989  "
      ]
     },
     "execution_count": 3,
     "metadata": {},
     "output_type": "execute_result"
    }
   ],
   "source": [
    "training_data.head()"
   ]
  },
  {
   "cell_type": "code",
   "execution_count": 4,
   "metadata": {},
   "outputs": [],
   "source": [
    "df_train = pd.DataFrame({'item':training_data['track_id'],'user':training_data['user_id']})"
   ]
  },
  {
   "cell_type": "code",
   "execution_count": 5,
   "metadata": {},
   "outputs": [],
   "source": [
    "df_train_ratings = df_train.copy(deep = True)\n",
    "df_train_ratings['rating'] = training_data['count']"
   ]
  },
  {
   "cell_type": "code",
   "execution_count": 6,
   "metadata": {},
   "outputs": [
    {
     "data": {
      "text/html": [
       "<div>\n",
       "<style scoped>\n",
       "    .dataframe tbody tr th:only-of-type {\n",
       "        vertical-align: middle;\n",
       "    }\n",
       "\n",
       "    .dataframe tbody tr th {\n",
       "        vertical-align: top;\n",
       "    }\n",
       "\n",
       "    .dataframe thead th {\n",
       "        text-align: right;\n",
       "    }\n",
       "</style>\n",
       "<table border=\"1\" class=\"dataframe\">\n",
       "  <thead>\n",
       "    <tr style=\"text-align: right;\">\n",
       "      <th></th>\n",
       "      <th>item</th>\n",
       "      <th>user</th>\n",
       "      <th>rating</th>\n",
       "    </tr>\n",
       "  </thead>\n",
       "  <tbody>\n",
       "    <tr>\n",
       "      <th>0</th>\n",
       "      <td>TRIQAUQ128F42435AD</td>\n",
       "      <td>b80344d063b5ccb3212f76538f3d9e43d87dca9e</td>\n",
       "      <td>1</td>\n",
       "    </tr>\n",
       "    <tr>\n",
       "      <th>1</th>\n",
       "      <td>TRIRLYL128F42539D1</td>\n",
       "      <td>b80344d063b5ccb3212f76538f3d9e43d87dca9e</td>\n",
       "      <td>1</td>\n",
       "    </tr>\n",
       "    <tr>\n",
       "      <th>2</th>\n",
       "      <td>TRMHBXZ128F4238406</td>\n",
       "      <td>b80344d063b5ccb3212f76538f3d9e43d87dca9e</td>\n",
       "      <td>2</td>\n",
       "    </tr>\n",
       "  </tbody>\n",
       "</table>\n",
       "</div>"
      ],
      "text/plain": [
       "                 item                                      user  rating\n",
       "0  TRIQAUQ128F42435AD  b80344d063b5ccb3212f76538f3d9e43d87dca9e       1\n",
       "1  TRIRLYL128F42539D1  b80344d063b5ccb3212f76538f3d9e43d87dca9e       1\n",
       "2  TRMHBXZ128F4238406  b80344d063b5ccb3212f76538f3d9e43d87dca9e       2"
      ]
     },
     "execution_count": 6,
     "metadata": {},
     "output_type": "execute_result"
    }
   ],
   "source": [
    "df_train_ratings.head(3)"
   ]
  },
  {
   "cell_type": "code",
   "execution_count": 7,
   "metadata": {},
   "outputs": [],
   "source": [
    "Implicit_ALS_Model = als.ImplicitMF(250, iterations=15, reg = 0.1, weight = 100,method='cg')"
   ]
  },
  {
   "cell_type": "code",
   "execution_count": 8,
   "metadata": {},
   "outputs": [],
   "source": [
    "fittable = util.clone(Implicit_ALS_Model)"
   ]
  },
  {
   "cell_type": "code",
   "execution_count": 9,
   "metadata": {},
   "outputs": [],
   "source": [
    "fittable = Recommender.adapt(fittable)"
   ]
  },
  {
   "cell_type": "code",
   "execution_count": 10,
   "metadata": {},
   "outputs": [
    {
     "name": "stdout",
     "output_type": "stream",
     "text": [
      "Time Taken to Fit The Data: 633.0114307403564\n"
     ]
    }
   ],
   "source": [
    "import time\n",
    "start = time.time()\n",
    "fittable.fit(df_train_ratings)\n",
    "end = time.time()\n",
    "print(f'Time Taken to Fit The Data: {end - start}')"
   ]
  },
  {
   "cell_type": "code",
   "execution_count": 65,
   "metadata": {},
   "outputs": [
    {
     "data": {
      "application/vnd.jupyter.widget-view+json": {
       "model_id": "0091526df7c14a5796f0fc69874b9746",
       "version_major": 2,
       "version_minor": 0
      },
      "text/plain": [
       "  0%|          | 0/3 [00:00<?, ?it/s]"
      ]
     },
     "metadata": {},
     "output_type": "display_data"
    },
    {
     "name": "stdout",
     "output_type": "stream",
     "text": [
      "idx: 0, u : a\n",
      "0\n",
      "idx: 1, u : b\n",
      "1\n",
      "idx: 2, u : c\n",
      "2\n"
     ]
    }
   ],
   "source": [
    "for idx, u in enumerate(tqdm(['a','b','c'])):\n",
    "    print(f'idx: {idx}, u : {u}')\n",
    "    if idx%1 == 0:\n",
    "        print(idx)"
   ]
  },
  {
   "cell_type": "code",
   "execution_count": 11,
   "metadata": {},
   "outputs": [],
   "source": [
    "val_path = r'/home/ac8826/final-project-team_pseudo_recommenders/Databases/Databases/cf_validation.parquet/part-00000-09e59385-7dcd-4b76-801d-5178b66f79fb-c000.snappy.parquet'\n",
    "val = pd.read_parquet(val_path)"
   ]
  },
  {
   "cell_type": "code",
   "execution_count": 12,
   "metadata": {},
   "outputs": [
    {
     "data": {
      "text/html": [
       "<div>\n",
       "<style scoped>\n",
       "    .dataframe tbody tr th:only-of-type {\n",
       "        vertical-align: middle;\n",
       "    }\n",
       "\n",
       "    .dataframe tbody tr th {\n",
       "        vertical-align: top;\n",
       "    }\n",
       "\n",
       "    .dataframe thead th {\n",
       "        text-align: right;\n",
       "    }\n",
       "</style>\n",
       "<table border=\"1\" class=\"dataframe\">\n",
       "  <thead>\n",
       "    <tr style=\"text-align: right;\">\n",
       "      <th></th>\n",
       "      <th>user_id</th>\n",
       "      <th>count</th>\n",
       "      <th>track_id</th>\n",
       "      <th>__index_level_0__</th>\n",
       "      <th>user_id_index</th>\n",
       "      <th>track_id_index</th>\n",
       "    </tr>\n",
       "  </thead>\n",
       "  <tbody>\n",
       "    <tr>\n",
       "      <th>0</th>\n",
       "      <td>0007140a3796e901f3190f12e9de6d7548d4ac4a</td>\n",
       "      <td>1</td>\n",
       "      <td>TRUFCYO128F422B898</td>\n",
       "      <td>0</td>\n",
       "      <td>700105</td>\n",
       "      <td>1036</td>\n",
       "    </tr>\n",
       "    <tr>\n",
       "      <th>1</th>\n",
       "      <td>0007140a3796e901f3190f12e9de6d7548d4ac4a</td>\n",
       "      <td>2</td>\n",
       "      <td>TROBZPR128F14808FF</td>\n",
       "      <td>1</td>\n",
       "      <td>700105</td>\n",
       "      <td>33556</td>\n",
       "    </tr>\n",
       "    <tr>\n",
       "      <th>2</th>\n",
       "      <td>0007140a3796e901f3190f12e9de6d7548d4ac4a</td>\n",
       "      <td>1</td>\n",
       "      <td>TRFGZUW128F92FC2AB</td>\n",
       "      <td>2</td>\n",
       "      <td>700105</td>\n",
       "      <td>37081</td>\n",
       "    </tr>\n",
       "    <tr>\n",
       "      <th>3</th>\n",
       "      <td>0007140a3796e901f3190f12e9de6d7548d4ac4a</td>\n",
       "      <td>1</td>\n",
       "      <td>TRHTCXG12903CC2F60</td>\n",
       "      <td>3</td>\n",
       "      <td>700105</td>\n",
       "      <td>44</td>\n",
       "    </tr>\n",
       "    <tr>\n",
       "      <th>4</th>\n",
       "      <td>0007140a3796e901f3190f12e9de6d7548d4ac4a</td>\n",
       "      <td>1</td>\n",
       "      <td>TRKFBTS128EF34E530</td>\n",
       "      <td>4</td>\n",
       "      <td>700105</td>\n",
       "      <td>13959</td>\n",
       "    </tr>\n",
       "  </tbody>\n",
       "</table>\n",
       "</div>"
      ],
      "text/plain": [
       "                                    user_id  count            track_id  \\\n",
       "0  0007140a3796e901f3190f12e9de6d7548d4ac4a      1  TRUFCYO128F422B898   \n",
       "1  0007140a3796e901f3190f12e9de6d7548d4ac4a      2  TROBZPR128F14808FF   \n",
       "2  0007140a3796e901f3190f12e9de6d7548d4ac4a      1  TRFGZUW128F92FC2AB   \n",
       "3  0007140a3796e901f3190f12e9de6d7548d4ac4a      1  TRHTCXG12903CC2F60   \n",
       "4  0007140a3796e901f3190f12e9de6d7548d4ac4a      1  TRKFBTS128EF34E530   \n",
       "\n",
       "   __index_level_0__  user_id_index  track_id_index  \n",
       "0                  0         700105            1036  \n",
       "1                  1         700105           33556  \n",
       "2                  2         700105           37081  \n",
       "3                  3         700105              44  \n",
       "4                  4         700105           13959  "
      ]
     },
     "execution_count": 12,
     "metadata": {},
     "output_type": "execute_result"
    }
   ],
   "source": [
    "val.head()"
   ]
  },
  {
   "cell_type": "code",
   "execution_count": null,
   "metadata": {},
   "outputs": [],
   "source": []
  },
  {
   "cell_type": "code",
   "execution_count": 13,
   "metadata": {},
   "outputs": [],
   "source": [
    "df_val = pd.DataFrame({'item':val['track_id'],'user':val['user_id']})"
   ]
  },
  {
   "cell_type": "code",
   "execution_count": 14,
   "metadata": {},
   "outputs": [],
   "source": [
    "users = df_val.user.unique()"
   ]
  },
  {
   "cell_type": "code",
   "execution_count": 15,
   "metadata": {},
   "outputs": [],
   "source": [
    "df_val_rating = df_val.copy(deep = True)\n",
    "df_val_rating['rating'] = val['count']"
   ]
  },
  {
   "cell_type": "code",
   "execution_count": 17,
   "metadata": {},
   "outputs": [
    {
     "data": {
      "application/vnd.jupyter.widget-view+json": {
       "model_id": "efed1c05efb54ca0bd824069f20c4713",
       "version_major": 2,
       "version_minor": 0
      },
      "text/plain": [
       "  0%|          | 0/10000 [00:00<?, ?it/s]"
      ]
     },
     "metadata": {},
     "output_type": "display_data"
    }
   ],
   "source": [
    "recommendations_df = pd.DataFrame(columns = ['item', 'score', 'user', 'rank'])\n",
    "ls_ndgc = []\n",
    "\n",
    "for i, user in enumerate(tqdm(users)):\n",
    "    ls_users = []\n",
    "    ls_item = []\n",
    "    ls_rank = []\n",
    "    ls_score = []\n",
    "    recs = fittable.recommend(user, 500)\n",
    "    recs['user'] = user\n",
    "    recs['rank'] = recs.groupby('user')['score'].rank(ascending=False)\n",
    "    ls_users.extend(list(recs['user']))\n",
    "    ls_item.extend(list(recs['item']))\n",
    "    ls_rank.extend(list(recs['rank']))\n",
    "    ls_score.extend(list(recs['score']))\n",
    "\n",
    "    if True:\n",
    "        recommendation_map = {'item': ls_item, 'user': ls_users, 'rank': ls_rank, 'score': ls_score}\n",
    "        recommendations_df = pd.DataFrame(recommendation_map, columns= ['item', 'user', 'rank', 'score'])\n",
    "        RecListAnalysisObj = topn.RecListAnalysis()\n",
    "        RecListAnalysisObj.add_metric(topn.ndcg)\n",
    "        results = RecListAnalysisObj.compute(recommendations_df, df_val[df_val['user']==user])\n",
    "        ls_ndgc.extend(list(results['ndcg']))"
   ]
  },
  {
   "cell_type": "code",
   "execution_count": null,
   "metadata": {},
   "outputs": [],
   "source": []
  },
  {
   "cell_type": "code",
   "execution_count": 18,
   "metadata": {},
   "outputs": [
    {
     "name": "stdout",
     "output_type": "stream",
     "text": [
      "Recommendations Predictied\n",
      "NDGC Score: 0.30407043768920755\n"
     ]
    }
   ],
   "source": [
    "print(\"Recommendations Predictied\")\n",
    "print(f'NDGC Score: {sum(ndgc_list)/len(ndgc_list)}')"
   ]
  },
  {
   "cell_type": "code",
   "execution_count": null,
   "metadata": {},
   "outputs": [],
   "source": []
  },
  {
   "cell_type": "code",
   "execution_count": 4,
   "metadata": {},
   "outputs": [
    {
     "name": "stdout",
     "output_type": "stream",
     "text": [
      "1\n",
      "1\n"
     ]
    }
   ],
   "source": [
    "for i in range(2):\n",
    "    if True:\n",
    "        print(1)"
   ]
  },
  {
   "cell_type": "code",
   "execution_count": null,
   "metadata": {},
   "outputs": [],
   "source": []
  }
 ],
 "metadata": {
  "kernelspec": {
   "display_name": "Python 3",
   "language": "python",
   "name": "python3"
  },
  "language_info": {
   "codemirror_mode": {
    "name": "ipython",
    "version": 3
   },
   "file_extension": ".py",
   "mimetype": "text/x-python",
   "name": "python",
   "nbconvert_exporter": "python",
   "pygments_lexer": "ipython3",
   "version": "3.6.5"
  }
 },
 "nbformat": 4,
 "nbformat_minor": 4
}
